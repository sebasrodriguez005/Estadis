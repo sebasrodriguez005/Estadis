{
  "metadata": {
    "kernelspec": {
      "name": "python",
      "display_name": "Python (Pyodide)",
      "language": "python"
    },
    "language_info": {
      "codemirror_mode": {
        "name": "python",
        "version": 3
      },
      "file_extension": ".py",
      "mimetype": "text/x-python",
      "name": "python",
      "nbconvert_exporter": "python",
      "pygments_lexer": "ipython3",
      "version": "3.8"
    }
  },
  "nbformat_minor": 4,
  "nbformat": 4,
  "cells": [
    {
      "cell_type": "markdown",
      "source": "<p style=\"text-align:center\">\n    <a href=\"https://skills.network/?utm_medium=Exinfluencer&utm_source=Exinfluencer&utm_content=000026UJ&utm_term=10006555&utm_id=NA-SkillsNetwork-Channel-SkillsNetworkCoursesIBMDeveloperSkillsNetworkST0151ENSkillsNetwork20531532-2022-01-01\" target=\"_blank\">\n    <img src=\"https://cf-courses-data.s3.us.cloud-object-storage.appdomain.cloud/assets/logos/SN_web_lightmode.png\" width=\"200\" alt=\"Skills Network Logo\"  />\n    </a>\n</p>\n\n",
      "metadata": {}
    },
    {
      "cell_type": "markdown",
      "source": "#### Import the required libraries we need for the lab.\n",
      "metadata": {}
    },
    {
      "cell_type": "code",
      "source": "import piplite\nawait piplite.install(['numpy'],['pandas'])\nawait piplite.install(['seaborn'])",
      "metadata": {},
      "outputs": [],
      "execution_count": null
    },
    {
      "cell_type": "code",
      "source": "import pandas as pd\nimport pandas as pd\nimport seaborn as sns\nimport matplotlib.pyplot as pyplot\nimport scipy.stats\nimport statsmodels.api as sm\nfrom statsmodels.formula.api import ols",
      "metadata": {},
      "outputs": [],
      "execution_count": null
    },
    {
      "cell_type": "markdown",
      "source": "#### Read the dataset in the csv file from the URL\n",
      "metadata": {}
    },
    {
      "cell_type": "code",
      "source": "from js import fetch\nimport io\n\nURL = 'https://cf-courses-data.s3.us.cloud-object-storage.appdomain.cloud/IBMDeveloperSkillsNetwork-ST0151EN-SkillsNetwork/labs/boston_housing.csv'\nresp = await fetch(URL)\nboston_url = io.BytesIO((await resp.arrayBuffer()).to_py())",
      "metadata": {},
      "outputs": [],
      "execution_count": null
    },
    {
      "cell_type": "code",
      "source": "boston_df=pd.read_csv(boston_url)",
      "metadata": {},
      "outputs": [],
      "execution_count": null
    },
    {
      "cell_type": "markdown",
      "source": "#### Add your code below following the instructions given in the course to complete the peer graded assignment\n",
      "metadata": {}
    },
    {
      "cell_type": "code",
      "source": "#Tarea 1\n# Importar librerías necesarias\nimport pandas as pd\nimport numpy as np\nimport matplotlib.pyplot as plt\nimport seaborn as sns\nfrom scipy import stats\n\n# Cargar el conjunto de datos desde la URL proporcionada\nboston_url = 'https://cf-courses-data.s3.us.cloud-object-storage.appdomain.cloud/IBMDeveloperSkillsNetwork-ST0151EN-SkillsNetwork/labs/boston_housing.csv'\nboston_df = pd.read_csv(boston_url)\n\n# Mostrar las primeras 5 filas del dataframe para inspección inicial\nprint(\"Primeras 5 filas del conjunto de datos:\")\nprint(boston_df.head())\n\n# Mostrar información general del dataframe (tipos de datos, valores no nulos)\nprint(\"\\nInformación del conjunto de datos:\")\nprint(boston_df.info())\n\n# Mostrar estadísticas descriptivas para todas las variables numéricas\nprint(\"\\nEstadísticas descriptivas:\")\nprint(boston_df.describe())\n\n# Verificar valores faltantes\nprint(\"\\nValores faltantes por columna:\")\nprint(boston_df.isnull().sum())\n\n# Histogramas para todas las variables numéricas\nprint(\"\\nGenerando histogramas para todas las variables numéricas...\")\nboston_df.hist(figsize=(12, 10), bins=30)\nplt.tight_layout()\nplt.show()\n\n# Matriz de correlación y mapa de calor\nprint(\"\\nMatriz de correlación entre variables:\")\ncorr_matrix = boston_df.corr()\nplt.figure(figsize=(12, 8))\nsns.heatmap(corr_matrix, annot=True, fmt=\".2f\", cmap='coolwarm', center=0)\nplt.title('Matriz de Correlación')\nplt.show()\n\n# Boxplot para MEDV (valor medio de viviendas)\nplt.figure(figsize=(8, 6))\nsns.boxplot(y='MEDV', data=boston_df)\nplt.title('Distribución del Valor Medio de Viviendas (MEDV)')\nplt.show()\n\n# Boxplot comparando MEDV por CHAS (cercanía al río Charles)\nplt.figure(figsize=(8, 6))\nsns.boxplot(x='CHAS', y='MEDV', data=boston_df)\nplt.title('Valor de Viviendas (MEDV) por Cercanía al Río Charles (CHAS)')\nplt.xticks([0, 1], ['No limita con río', 'Limita con río'])\nplt.show()\n\n# Gráfico de dispersión: NOX vs INDUS\nplt.figure(figsize=(8, 6))\nsns.scatterplot(x='INDUS', y='NOX', data=boston_df)\nplt.title('Concentración de Óxido Nítrico (NOX) vs Áreas Comerciales (INDUS)')\nplt.show()\n\n# Gráfico de dispersión: RM vs MEDV\nplt.figure(figsize=(8, 6))\nsns.scatterplot(x='RM', y='MEDV', data=boston_df)\nplt.title('Número de Habitaciones (RM) vs Valor de Viviendas (MEDV)')\nplt.show()\n\n# Gráfico de dispersión: DIS vs MEDV\nplt.figure(figsize=(8, 6))\nsns.scatterplot(x='DIS', y='MEDV', data=boston_df)\nplt.title('Distancia a Centros de Empleo (DIS) vs Valor de Viviendas (MEDV)')\nplt.show()\n\n# Mostrar correlaciones más fuertes con MEDV\nprint(\"\\nCorrelaciones con MEDV (valor medio de viviendas):\")\nprint(corr_matrix['MEDV'].sort_values(ascending=False))",
      "metadata": {},
      "outputs": [],
      "execution_count": null
    },
    {
      "cell_type": "code",
      "source": "# TAREA 2 con explicaciones en código\n\n# Importar librerías\nimport pandas as pd\nimport numpy as np\nimport seaborn as sns\nimport matplotlib.pyplot as plt\n\n# Configurar estilo de gráficos\nsns.set(style=\"whitegrid\")\nplt.figure(figsize=(10, 6))\n\n# =============================================\n# 1. Boxplot para \"Valor medio de viviendas (MEDV)\"\n# =============================================\nplt.subplot(2, 2, 1)\nsns.boxplot(y='MEDV', data=boston_df, color='skyblue')\nplt.title('Distribución del Valor Medio de Viviendas (MEDV)')\nplt.ylabel('Valor (miles de $)')\n# Explicación del gráfico 1:\nprint(\"\\n#1. Boxplot de MEDV: Muestra la distribución del valor mediano de viviendas en Boston.\")\nprint(\"   - La caja central representa el rango intercuartílico (Q1-Q3)\")\nprint(\"   - La línea en la caja muestra la mediana (valor típico)\")\nprint(\"   - Los 'bigotes' muestran el rango de valores típicos\")\nprint(\"   - Los puntos fuera muestran valores atípicos (viviendas muy caras o baratas)\\n\")\n\n# =============================================\n# 2. Diagrama de barras para \"Río Charles (CHAS)\"\n# =============================================\nplt.subplot(2, 2, 2)\nsns.countplot(x='CHAS', data=boston_df, palette='pastel')\nplt.title('Frecuencia de Viviendas cerca del Río Charles')\nplt.xlabel('Limita con el río (1=Sí, 0=No)')\nplt.ylabel('Cantidad de viviendas')\n# Explicación del gráfico 2:\nprint(\"\\n#2. Gráfico de barras CHAS: Compara viviendas cercanas vs no cercanas al río Charles.\")\nprint(\"   - Muestra que la gran mayoría de viviendas (barra 0) no están junto al río\")\nprint(\"   - Solo un pequeño porcentaje (barra 1) tienen esa ubicación privilegiada\\n\")\n\n# =============================================\n# 3. Boxplot de MEDV vs EDAD (discretizada)\n# =============================================\n# Crear grupos de edad\nboston_df['AGE_GROUP'] = pd.cut(boston_df['AGE'],\n                               bins=[0, 35, 70, 100],\n                               labels=['≤35 años', '35-70 años', '≥70 años'])\n\nplt.subplot(2, 2, 3)\nsns.boxplot(x='AGE_GROUP', y='MEDV', data=boston_df, palette='coolwarm')\nplt.title('Valor de Viviendas por Antigüedad de Construcción')\nplt.xlabel('Grupo de Edad')\nplt.ylabel('Valor (miles de $)')\n# Explicación del gráfico 3:\nprint(\"\\n#3. Boxplot MEDV vs EDAD: Analiza cómo afecta la antigüedad al valor de la vivienda.\")\nprint(\"   - Las viviendas más nuevas (≤35 años) tienden a tener mayor valor mediano\")\nprint(\"   - Las más antiguas (≥70 años) muestran mayor variabilidad en precios\")\nprint(\"   - Se observa que la antigüedad influye pero no determina completamente el valor\\n\")\n\n# =============================================\n# 4. Scatterplot: NOX vs INDUS\n# =============================================\nplt.subplot(2, 2, 4)\nsns.scatterplot(x='INDUS', y='NOX', data=boston_df, alpha=0.6, color='green')\nplt.title('Contaminación vs Áreas Comerciales')\nplt.xlabel('Áreas Comerciales (% ciudad)')\nplt.ylabel('Concentración NOX (ppm)')\n# Explicación del gráfico 4:\nprint(\"\\n#4. Scatterplot NOX vs INDUS: Relación entre contaminación y zonas comerciales.\")\nprint(\"   - Muestra una clara tendencia: a mayor % de áreas comerciales, más contaminación\")\nprint(\"   - La relación parece ser aproximadamente lineal y positiva\")\nprint(\"   - Hay algunos puntos atípicos que merecerían investigación adicional\\n\")\n\n# Ajustar layout\nplt.tight_layout()\nplt.show()\n\n# =============================================\n# 5. Histograma: Proporción alumnos/profesor (PTRATIO)\n# =============================================\nplt.figure(figsize=(10, 5))\nsns.histplot(boston_df['PTRATIO'], bins=15, kde=True, color='purple')\nplt.title('Distribución de la Proporción Alumno/Profesor')\nplt.xlabel('Alumnos por profesor')\nplt.ylabel('Frecuencia')\nplt.show()\n# Explicación del gráfico 5:\nprint(\"\\n#5. Histograma PTRATIO: Distribución de la ratio alumnos-profesor por distrito.\")\nprint(\"   - La mayoría de distritos tienen entre 18-21 alumnos por profesor\")\nprint(\"   - La distribución es aproximadamente normal con ligero sesgo a la derecha\")\nprint(\"   - Existen pocos distritos con ratios muy altas (>23 alumnos/profesor)\\n\")\n\n# =============================================\n# Estadísticas descriptivas complementarias\n# =============================================\nprint(\"\\n🔍 Estadísticas Clave:\")\nprint(\"-------------------------------------\")\nprint(\"1. Valor MEDV promedio:\", round(boston_df['MEDV'].mean(), 2), \"mil $\")\nprint(\"2. % viviendas cerca del río:\", round(boston_df['CHAS'].mean()*100, 1), \"%\")\nprint(\"3. Correlación NOX-INDUS:\", round(boston_df[['NOX','INDUS']].corr().iloc[0,1], 3))\nprint(\"4. PTRATIO promedio:\", round(boston_df['PTRATIO'].mean(), 1), \"alumnos/profesor\")",
      "metadata": {
        "trusted": true
      },
      "outputs": [],
      "execution_count": null
    },
    {
      "cell_type": "code",
      "source": "",
      "metadata": {
        "trusted": true
      },
      "outputs": [],
      "execution_count": null
    }
  ]
}